{
  "nbformat": 4,
  "nbformat_minor": 0,
  "metadata": {
    "colab": {
      "name": "HW 5 ",
      "provenance": [],
      "collapsed_sections": []
    },
    "kernelspec": {
      "name": "python3",
      "display_name": "Python 3"
    },
    "language_info": {
      "name": "python"
    }
  },
  "cells": [
    {
      "cell_type": "code",
      "execution_count": null,
      "metadata": {
        "id": "OobOAVJetTE2"
      },
      "outputs": [],
      "source": [
        "# check that the age is a number and enforce this\n",
        "age = input(\"please give me a number for your age\\t\")\n",
        "while not(age.isdigit()):\n",
        "    age= input(\"please give me a number for your age\\t\")\n",
        "\n",
        " #convert the age to a number\n",
        "age = int(age)\n",
        "\n",
        "#check that the name is a bunch ofletters and not numebers and enforce this\n",
        "name = input(\"please give me your name\\t\")\n",
        "while not(name.isalpha()):\n",
        "    name= input(\"please give me your age\")"
      ]
    },
    {
      "cell_type": "code",
      "source": [
        "#p\n",
        "X = 5478\n",
        "total = 0\n",
        "hasThree = False\n",
        "holder = X\n",
        "\n",
        "# check if it has a 3 \n",
        "while (holder > 0):\n",
        "  if(holder%10) == 3):\n",
        "        hasThree = True\n",
        "        break\n",
        "        holder = holder // 10\n",
        "\n",
        "#add the digits together\n",
        "while(hasThree and x > 0):\n",
        "  total +=x%10\n",
        "  x = x//10\n",
        "\n",
        "print ( total)"
      ],
      "metadata": {
        "colab": {
          "base_uri": "https://localhost:8080/",
          "height": 131
        },
        "id": "kbBP2OeCvmS8",
        "outputId": "6ae8c345-eb80-43a0-c6ce-af99b55e7744"
      },
      "execution_count": null,
      "outputs": [
        {
          "output_type": "error",
          "ename": "SyntaxError",
          "evalue": "ignored",
          "traceback": [
            "\u001b[0;36m  File \u001b[0;32m\"<ipython-input-10-7bc819e67e1a>\"\u001b[0;36m, line \u001b[0;32m9\u001b[0m\n\u001b[0;31m    if(holder%10) == 3):\u001b[0m\n\u001b[0m                      ^\u001b[0m\n\u001b[0;31mSyntaxError\u001b[0m\u001b[0;31m:\u001b[0m invalid syntax\n"
          ]
        }
      ]
    },
    {
      "cell_type": "code",
      "source": [
        ""
      ],
      "metadata": {
        "id": "q2yHA6sGzDXR"
      },
      "execution_count": null,
      "outputs": []
    },
    {
      "cell_type": "markdown",
      "source": [
        "### show Numbers whose Digits add to 17 \n"
      ],
      "metadata": {
        "id": "Ks-Ne_e5zOOo"
      }
    },
    {
      "cell_type": "code",
      "source": [
        "for x in range (1,1000001):\n",
        "    total = 0\n",
        "    holder = X\n",
        "\n",
        " # add the digits together \n",
        "    while(holder >0):\n",
        "        total += holder%10\n",
        "        holder = holder// 10\n",
        "\n",
        "if(total == 17):\n",
        " print(x,end= \" \")"
      ],
      "metadata": {
        "id": "DJ0Wxwzzzqfe"
      },
      "execution_count": null,
      "outputs": []
    },
    {
      "cell_type": "code",
      "source": [
        "#ullthe digits from a number \n",
        "for x in range (1,100001):\n",
        " total = 0\n",
        " hasThree = False\n",
        " x = holder = 1\n",
        "\n",
        " # check if it has a three\n",
        " while(holder>0):\n",
        "    if holder%10 == 3):\n",
        "         hasThree = True\n",
        "         break\n",
        "    holder = holder // 10\n",
        "\n",
        " #add the digits together\n",
        " while(hasThree and x >0):\n",
        "     total += x%10\n",
        "     x = x//10\n",
        "     \n",
        "     if(total == 23):\n",
        "         print(1,end=\" \")\n",
        "    \n"
      ],
      "metadata": {
        "colab": {
          "base_uri": "https://localhost:8080/",
          "height": 131
        },
        "id": "7QpZ1UB_09K5",
        "outputId": "e114facd-5911-4fac-e390-d2fb7ec12697"
      },
      "execution_count": null,
      "outputs": [
        {
          "output_type": "error",
          "ename": "SyntaxError",
          "evalue": "ignored",
          "traceback": [
            "\u001b[0;36m  File \u001b[0;32m\"<ipython-input-17-cc74998ea2b5>\"\u001b[0;36m, line \u001b[0;32m9\u001b[0m\n\u001b[0;31m    if holder%10 == 3):\u001b[0m\n\u001b[0m                     ^\u001b[0m\n\u001b[0;31mSyntaxError\u001b[0m\u001b[0;31m:\u001b[0m invalid syntax\n"
          ]
        }
      ]
    },
    {
      "cell_type": "code",
      "source": [
        "for i in range (100,0,-1):\n",
        "    print (i,end=\" | \")"
      ],
      "metadata": {
        "colab": {
          "base_uri": "https://localhost:8080/"
        },
        "id": "rivWoGQL3bzT",
        "outputId": "0335929c-31f1-44ca-963b-b99268ee44db"
      },
      "execution_count": null,
      "outputs": [
        {
          "output_type": "stream",
          "name": "stdout",
          "text": [
            "100 | 99 | 98 | 97 | 96 | 95 | 94 | 93 | 92 | 91 | 90 | 89 | 88 | 87 | 86 | 85 | 84 | 83 | 82 | 81 | 80 | 79 | 78 | 77 | 76 | 75 | 74 | 73 | 72 | 71 | 70 | 69 | 68 | 67 | 66 | 65 | 64 | 63 | 62 | 61 | 60 | 59 | 58 | 57 | 56 | 55 | 54 | 53 | 52 | 51 | 50 | 49 | 48 | 47 | 46 | 45 | 44 | 43 | 42 | 41 | 40 | 39 | 38 | 37 | 36 | 35 | 34 | 33 | 32 | 31 | 30 | 29 | 28 | 27 | 26 | 25 | 24 | 23 | 22 | 21 | 20 | 19 | 18 | 17 | 16 | 15 | 14 | 13 | 12 | 11 | 10 | 9 | 8 | 7 | 6 | 5 | 4 | 3 | 2 | 1 | "
          ]
        }
      ]
    },
    {
      "cell_type": "code",
      "source": [
        "for i in range(100,1001):\n",
        "    isPrime = True\n",
        "\n",
        "    start = 2\n",
        "    while(start < i):\n",
        "        if(i % start == 0):\n",
        "        isPrime = False\n",
        "        break\n",
        "        start += 1\n",
        "\n",
        "        if(isPrime):\n",
        "            print(i, end=\" | \")"
      ],
      "metadata": {
        "id": "xfMZc8IF3w9U"
      },
      "execution_count": null,
      "outputs": []
    }
  ]
}